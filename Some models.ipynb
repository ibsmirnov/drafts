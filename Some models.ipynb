{
 "cells": [
  {
   "cell_type": "code",
   "execution_count": 1,
   "metadata": {},
   "outputs": [],
   "source": [
    "from scipy import stats\n",
    "def corr(x, y, sign = False):\n",
    "    if sign:\n",
    "        return round(stats.pearsonr(x, y)[0], 3), \"{:.2e}\".format(stats.pearsonr(x, y)[1])\n",
    "    return round(stats.pearsonr(x, y)[0], 3)\n"
   ]
  },
  {
   "cell_type": "code",
   "execution_count": 2,
   "metadata": {},
   "outputs": [],
   "source": [
    "import numpy as np"
   ]
  },
  {
   "cell_type": "code",
   "execution_count": 40,
   "metadata": {},
   "outputs": [],
   "source": [
    "# academic performance is normally distributed\n",
    "np.random.seed(7)\n",
    "acad = np.random.normal(0, 1, 1000)"
   ]
  },
  {
   "cell_type": "code",
   "execution_count": 41,
   "metadata": {},
   "outputs": [
    {
     "data": {
      "text/plain": [
       "0.175"
      ]
     },
     "execution_count": 41,
     "metadata": {},
     "output_type": "execute_result"
    }
   ],
   "source": [
    "np.random.seed(1)\n",
    "# depression depends on academic performance and it is the relationship that we want to uncover\n",
    "# This coefficient is realistic from this https://academic.oup.com/eurpub/article-abstract/30/Supplement_5/ckaa165.339/5915776\n",
    "eps = np.random.normal(0, 1, 1000)\n",
    "depr = acad + 7 * eps\n",
    "corr(acad, depr)"
   ]
  },
  {
   "cell_type": "code",
   "execution_count": 42,
   "metadata": {},
   "outputs": [
    {
     "data": {
      "text/plain": [
       "0.179"
      ]
     },
     "execution_count": 42,
     "metadata": {},
     "output_type": "execute_result"
    }
   ],
   "source": [
    "np.random.seed(2)\n",
    "# This would be an error in sentiment as a measure of depression, this would depend on academic performance\n",
    "# Again coefficient is not much higher than what was observed emperically data\n",
    "eps = np.random.normal(0, 1, 1000)\n",
    "error = acad + 7 * eps\n",
    "corr(acad, error)"
   ]
  },
  {
   "cell_type": "code",
   "execution_count": 43,
   "metadata": {},
   "outputs": [
    {
     "data": {
      "text/plain": [
       "0.424"
      ]
     },
     "execution_count": 43,
     "metadata": {},
     "output_type": "execute_result"
    }
   ],
   "source": [
    "np.random.seed(3)\n",
    "# Sentiment correlates with depression, this correlation is definetelly not impressive, however, there are many\n",
    "# papers out that assume that this is good enough\n",
    "eps = np.random.normal(0, 1, 1000)\n",
    "sent = depr - 2 * error\n",
    "corr(sent, depr)\n"
   ]
  },
  {
   "cell_type": "code",
   "execution_count": 44,
   "metadata": {},
   "outputs": [
    {
     "data": {
      "text/plain": [
       "((0.175, '2.77e-08'), (-0.085, '6.88e-03'))"
      ]
     },
     "execution_count": 44,
     "metadata": {},
     "output_type": "execute_result"
    }
   ],
   "source": [
    "# This reproduce my emperical results, while sentiment and depression correlates,\n",
    "# they correlate differently with academic performance\n",
    "# Direction is different and both results are significant\n",
    "# I think my results were 0.22 and -0.16, so I would say it is close enough\n",
    "\n",
    "corr(depr, acad, True), corr(sent, acad, True)"
   ]
  },
  {
   "cell_type": "code",
   "execution_count": null,
   "metadata": {},
   "outputs": [],
   "source": []
  },
  {
   "cell_type": "code",
   "execution_count": null,
   "metadata": {},
   "outputs": [],
   "source": []
  }
 ],
 "metadata": {
  "kernelspec": {
   "display_name": "Python 3",
   "language": "python",
   "name": "python3"
  },
  "language_info": {
   "codemirror_mode": {
    "name": "ipython",
    "version": 3
   },
   "file_extension": ".py",
   "mimetype": "text/x-python",
   "name": "python",
   "nbconvert_exporter": "python",
   "pygments_lexer": "ipython3",
   "version": "3.8.5"
  }
 },
 "nbformat": 4,
 "nbformat_minor": 4
}
